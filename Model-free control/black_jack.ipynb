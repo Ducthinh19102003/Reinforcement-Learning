{
 "cells": [
  {
   "cell_type": "code",
   "execution_count": null,
   "metadata": {},
   "outputs": [],
   "source": [
    "def online_monte_carlo_policy_improvement(env, policy, num_episodes, gamma=1.0, alpha=0.1, epsilon=0.1):\n",
    "    # Initialize value function\n",
    "    V = np.zeros(env.nS)\n",
    "\n",
    "    for i_episode in range(num_episodes):\n",
    "        # Generate an episode\n",
    "        episode = []\n",
    "        state = env.reset()\n",
    "        done = False\n",
    "        while not done:\n",
    "            # Generate episode. Choose action based on epsilon-greedy policy. \n",
    "            probs = np.ones(env.nA) * epsilon / env.nA\n",
    "            probs[np.argmax(policy[state])] += (1.0 - epsilon)\n",
    "            action = np.random.choice(env.nA, p=probs)\n",
    "            next_state, reward, done, _ = env.step(action)\n",
    "            episode.append((state, action, reward))\n",
    "            state = next_state\n",
    "\n",
    "        # Update the value function\n",
    "        G = 0\n",
    "        for t in range(len(episode) - 1, -1, -1):\n",
    "            state, action, reward = episode[t]\n",
    "            next_state = episode[t+1][0] if t < len(episode) - 1 else None\n",
    "            G = gamma * G + reward\n",
    "            V[state] += alpha * (G - V[state])\n",
    "            if next_state is not None and action != np.argmax(policy[next_state]):\n",
    "                # Update policy based on new value function estimate\n",
    "                Q = np.zeros(env.nA)\n",
    "                for a in range(env.nA):\n",
    "                    Q[a] = sum([p * (r + gamma * V[s_]) for p, s_, r, _ in env.P[state][a]])\n",
    "                policy[state] = np.eye(env.nA)[np.argmax(Q)]\n",
    "\n",
    "    return policy"
   ]
  }
 ],
 "metadata": {
  "language_info": {
   "name": "python"
  },
  "orig_nbformat": 4
 },
 "nbformat": 4,
 "nbformat_minor": 2
}
