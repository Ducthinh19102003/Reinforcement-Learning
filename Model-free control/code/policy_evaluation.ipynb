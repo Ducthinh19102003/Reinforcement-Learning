{
 "cells": [
  {
   "cell_type": "code",
   "execution_count": 1,
   "metadata": {},
   "outputs": [],
   "source": [
    "from collections import defaultdict\n",
    "import numpy as np\n",
    "def monte_carlo(policy, env, num_episodes, gamma, alpha):\n",
    "    \"\"\"\n",
    "    env: OpenAI Gym environment\n",
    "    policy: Mapping from states to actions\n",
    "    gamma: discount factor\n",
    "    alpha: learning rate\n",
    "    num_episodes: the number of episodes\n",
    "    \"\"\"\n",
    "    V = defaultdict(int)\n",
    "    N = defaultdict(int)\n",
    "    for i in range(num_episodes):\n",
    "        episode = []\n",
    "        state = env.initial_state()\n",
    "        while True:\n",
    "            action = policy(state)\n",
    "            next_state, reward, done = env.step(action)\n",
    "            episode.append((state, action, reward))\n",
    "            if done:\n",
    "                break\n",
    "            state = next_state\n",
    "        G = [0] * len(episode)\n",
    "        visited_states = set()\n",
    "\n",
    "        for i in reversed(range(len(episode))):\n",
    "            s, a, r = episode[i]\n",
    "            G[i] = G[i-1] * gamma + r\n",
    "        \n",
    "        for i in range(len(episode)):\n",
    "            s, a, r = episode[i]\n",
    "            if s not in visited_states: #Comment if it is every_visit_monte_carlo\n",
    "                visited_states.add(s)\n",
    "                N[s] += 1\n",
    "                V[s] = V[s] + alpha * (G - V[s])\n",
    "    return V\n",
    "\n",
    "def TDLearning(env, policy, gamma, alpha, num_episodes):\n",
    "    \"\"\"\n",
    "    env: OpenAI Gym environment\n",
    "    policy: Mapping from states to actions\n",
    "    gamma: discount factor\n",
    "    alpha: learning rate\n",
    "    num_episodes: the number of episodes\n",
    "    \"\"\"\n",
    "    # Initialize value function\n",
    "    V = np.zeros(env.observation_space.n)\n",
    "\n",
    "    for i in range(num_episodes):\n",
    "        # Reset environment and eligibility traces\n",
    "        s = env.reset()\n",
    "\n",
    "        # Run episode\n",
    "        done = False\n",
    "        while not done:\n",
    "            a = policy[s]\n",
    "            s_next, r, done, _ = env.step(a)\n",
    "\n",
    "            # Compute TD error\n",
    "            delta = r + gamma * V[s_next] - V[s]\n",
    "\n",
    "            # Update value function\n",
    "            V += alpha * delta \n",
    "\n",
    "            s = s_next\n",
    "\n",
    "    return V"
   ]
  },
  {
   "cell_type": "code",
   "execution_count": 2,
   "metadata": {},
   "outputs": [
    {
     "data": {
      "text/plain": [
       "array([[1., 0., 0., 0., 0.],\n",
       "       [0., 1., 0., 0., 0.],\n",
       "       [0., 0., 1., 0., 0.],\n",
       "       [0., 0., 0., 1., 0.],\n",
       "       [0., 0., 0., 0., 1.]])"
      ]
     },
     "execution_count": 2,
     "metadata": {},
     "output_type": "execute_result"
    }
   ],
   "source": []
  }
 ],
 "metadata": {
  "kernelspec": {
   "display_name": "pytorch-gpu",
   "language": "python",
   "name": "python3"
  },
  "language_info": {
   "codemirror_mode": {
    "name": "ipython",
    "version": 3
   },
   "file_extension": ".py",
   "mimetype": "text/x-python",
   "name": "python",
   "nbconvert_exporter": "python",
   "pygments_lexer": "ipython3",
   "version": "3.10.10"
  },
  "orig_nbformat": 4
 },
 "nbformat": 4,
 "nbformat_minor": 2
}
