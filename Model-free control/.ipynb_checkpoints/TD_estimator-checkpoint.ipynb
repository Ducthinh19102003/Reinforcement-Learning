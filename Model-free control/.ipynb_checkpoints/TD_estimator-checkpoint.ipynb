{
 "cells": [
  {
   "cell_type": "markdown",
   "metadata": {},
   "source": [
    "<img src=\"picture/HW2_CS7642.png\" alt=\"MC_control\" width=\"75%\" height=\"75%\">"
   ]
  },
  {
   "cell_type": "markdown",
   "metadata": {},
   "source": [
    "## Solution\n",
    "\n",
    "\\begin{align*}\n",
    "TD(\\lambda) &= \\sum_{k=1}^{\\inf} (1-\\lambda) \\lambda^{k-1} E_k \\\\\n",
    "& = (1-\\lambda) E_1 + (1-\\lambda) \\Delta E_2 + (1-\\lambda)\\lambda^2 E_3 + (1-\\lambda)\\lambda^3 E_4 + (1-\\lambda)\\lambda^4 E_5 + \\sum_{k=6}^{\\inf} (1-\\lambda) \\lambda^{k-1} E_6 \\\\\n",
    "& = (1-\\lambda) E_1 + (1-\\lambda)\\lambda E_2 + (1-\\lambda)\\lambda^2 E_3 + (1-\\lambda)\\lambda^3 E_4 + (1-\\lambda)\\lambda^4 E_5 + \\lambda^5 E_6\n",
    "\\end{align*}\n",
    "\n",
    "Since $\\lambda < 1$, for $k>=6$, $E_k = E_6$, the infinit sum is reduced to $\\lambda^5 E_6$\n",
    "\n",
    "Since $TD(1) = E_6$, We have to solve the equation:\n",
    "\\begin{equation*}\n",
    "(1-\\lambda) E_1 + (1-\\lambda)\\lambda E_2 + (1-\\lambda)\\lambda^2 E_3 + (1-\\lambda)\\lambda^3 E_4 + (1-\\lambda)\\lambda^4 E_5 + (\\lambda^5 - 1) E_6 = 0\n",
    "\\end{equation*}\n",
    "$E_n$ is updated based on the following formula:\n",
    "\\begin{equation*}\n",
    "E_t^{(n)} = \\gamma^{n}V_{s_{t+n}} + \\sum_{i = 0}^{n - 1} \\gamma^{i}r_{t + i}\n",
    "\\end{equation*}"
   ]
  },
  {
   "cell_type": "code",
   "execution_count": 3,
   "metadata": {},
   "outputs": [],
   "source": [
    "import numpy as np\n",
    "import scipy.optimize\n",
    "class mdp:\n",
    "    def __init__(self, prob_to_1, V, r):\n",
    "        self.prob_to_1 = prob_to_1\n",
    "        self.r = r\n",
    "        self.V = V\n",
    "        self.G = [0] * 7\n",
    "        self.G[0] = self.V[0]\n",
    "        self.G[1] = self.prob_to_1 * (self.r[0] + self.V[1]) + (1 - self.prob_to_1) * (self.r[1] + self.V[2])\n",
    "        self.G[2] = self.prob_to_1 * (self.r[0] + self.r[2]) + (1 - self.prob_to_1) * (self.r[1] + self.r[3]) + self.V[3]\n",
    "        self.G[3] = self.G[2] - self.V[3] + self.r[4] + self.V[4]\n",
    "        self.G[4] = self.G[3] - self.V[4] + self.r[5] + self.V[5]\n",
    "        self.G[5] = self.G[4] - self.V[5] + self.r[6] + self.V[6]\n",
    "        self.G[6] = self.G[5] - self.V[6] + 0 + 0 #V[7] = 0, r[6] = 0\n",
    "            \n",
    "    def func(self, x):\n",
    "        y = 0\n",
    "        for i in range(5):\n",
    "            y += (1 - x) * x ** i * self.G[i + 1]\n",
    "        y += (x ** 5 - 1) * self.G[6]\n",
    "        return y\n",
    "    \n",
    "    def solve(self):\n",
    "        return scipy.optimize.fsolve(self.func, [0.5])"
   ]
  },
  {
   "cell_type": "code",
   "execution_count": 2,
   "metadata": {},
   "outputs": [
    {
     "name": "stdout",
     "output_type": "stream",
     "text": [
      "[0.6227695]\n",
      "[0.49567142]\n",
      "[0.20550276]\n"
     ]
    }
   ],
   "source": [
    "ex1 = mdp(0.81, [0.0,4.0,25.7,0.0,20.1,12.2,0.0], [7.9,-5.1,2.5,-7.2,9.0,0.0,1.6])\n",
    "print(ex1.solve())\n",
    "ex2 = mdp(0.22, [0.0,-5.2,0.0,25.4,10.6,9.2,12.3], [-2.4,0.8,4.0,2.5,8.6,-6.4,6.1])\n",
    "print(ex2.solve())\n",
    "ex3 = mdp(0.64, [0.0,4.9,7.8,-2.3,25.5,-10.2,-6.5], [-2.4,9.6,-7.8,0.1,3.4,-2.1,7.9])\n",
    "print(ex3.solve())"
   ]
  },
  {
   "cell_type": "code",
   "execution_count": null,
   "metadata": {},
   "outputs": [],
   "source": []
  }
 ],
 "metadata": {
  "kernelspec": {
   "display_name": "Python 3 (Spyder)",
   "language": "python3",
   "name": "python3"
  },
  "language_info": {
   "codemirror_mode": {
    "name": "ipython",
    "version": 3
   },
   "file_extension": ".py",
   "mimetype": "text/x-python",
   "name": "python",
   "nbconvert_exporter": "python",
   "pygments_lexer": "ipython3",
   "version": "3.9.12"
  }
 },
 "nbformat": 4,
 "nbformat_minor": 4
}
