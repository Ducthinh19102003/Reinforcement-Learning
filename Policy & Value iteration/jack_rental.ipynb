{
 "cells": [
  {
   "attachments": {},
   "cell_type": "markdown",
   "metadata": {},
   "source": [
    "# Jack's car rental\n",
    "__Original problem__: Jack manages two locations for a nationwide car rental company. Each day, some number of customers arrive at each location to rent cars. If Jack has a car available, he rents it out and is credited \\$10 by the national company. If he is out of cars at that location, then the business is lost. Cars become available for renting the day after they are returned. To help ensure that cars are available where they are needed, Jack can move them between the two locations overnight, at a cost of \\$2 per car moved. We assume that the number of cars requested and returned at each location are Poisson random variables, meaning that the probability that the number is n is $\\frac {λ ^ {n}}{n!} e^{-λ}$, where λ is the expected number. Suppose λ is 3 and 4 for rental requests at the first and second locations and 3 and 2 for returns. To simplify the problem slightly, we assume that there can be no more than 20 cars at each location (any additional cars are returned to the nationwide company, and thus disappear from the problem) and a maximum of five cars can be moved from one location to the other in one night. We take the discount rate to be γ = 0.9 and formulate this as a continuing finite MDP, where the time steps are days, the state is the number of cars at each location at the end of the day, and the actions are the net numbers of cars moved between the two locations overnight\n",
    "\n",
    "__Modified version__: One of Jack’s employees at the first location rides a bus home each night and lives near the second location. She is happy to shuttle one car to the second location for free. Each additional car still costs $2, as do all cars moved in the other direction. In addition, Jack has limited parking space at each location. If more than 10 cars are kept overnight at a location (after any moving of cars), then an additional cost of $4 must be incurred to use a second parking lot (independent of how many cars are kept there)"
   ]
  },
  {
   "attachments": {},
   "cell_type": "markdown",
   "metadata": {},
   "source": [
    "## Solution: \n",
    "*Optimisation*: This approach is incredibly fast (about 3.3s) with the following optimisation approach:\n",
    "1. Cache transition probabilities for two stores, and the expected rewards to avoid repeated computation.\n",
    "2. Use numpy matrix to represent transtional probability matrix.\n",
    "3. Use numpy iterator for faster iterating over matrix. \n",
    "4. We assume that bad actions are the one that move cars from one place to another such that the number of cars exceed 20 or less than 0."
   ]
  },
  {
   "cell_type": "code",
   "execution_count": null,
   "metadata": {},
   "outputs": [],
   "source": [
    "import numpy as np\n",
    "import copy\n",
    "from scipy.stats import poisson\n",
    "class mdp:\n",
    "    def __init__(self):\n",
    "        self.state_space = np.array([(i, j) for i in range(21) for j in range(21)])\n",
    "        self.action_space = np.array([i for i in range(-5, 6)])\n",
    "        self.policy = np.zeros(shape=(21,21), dtype=int)\n",
    "        self.value = np.zeros(shape=(21,21), dtype=int)\n",
    "\n",
    "        self.request1 = self.poisson_prob(3)\n",
    "        self.return1 = copy.deepcopy(self.request1)\n",
    "        self.request2 = self.poisson_prob(4)\n",
    "        self.return2 = self.poisson_prob(2)\n",
    "\n",
    "        self.transition_s1 = np.outer(self.return1, self.request1) \n",
    "        self.transition_s2 = np.outer(self.return2, self.request2)\n",
    "\n",
    "        self.reward_s1 = np.zeros(21)\n",
    "        self.reward_s2 = np.zeros(21)\n",
    "\n",
    "        self.gamma = 0.9\n",
    "        self.epsilon = 0.01\n",
    "\n",
    "    def poisson_prob(self, mu):\n",
    "        arr = np.array([poisson.pmf(i, mu) for i in range(21)])\n",
    "        arr[-1] += poisson.sf(20, mu)\n",
    "        return arr\n",
    "\n",
    "    def bellman(self, action, s1, s2):\n",
    "        cost = abs(action) * 2\n",
    "        transp = self.transition_probabilty(s1, s2, action)\n",
    "        reward_s1, reward_s2 = self.expected_reward(s1, s2, action)\n",
    "        return reward_s1 + reward_s2 - cost + self.gamma * sum((transp * self.value).flat)\n",
    "\n",
    "    def expected_reward(self, s1, s2, action):\n",
    "        s1_prime = s1 - action\n",
    "        s2_prime = s2 + action\n",
    "        if self.reward_s1[s1_prime] == 0:\n",
    "            self.reward_s1[s1_prime] = 10 * np.dot(np.arange(s1_prime + 1), self.request1[:s1_prime + 1])\n",
    "        if self.reward_s2[s2_prime] == 0:\n",
    "            self.reward_s2[s2_prime] = 10 * np.dot(np.arange(s2_prime + 1), self.request1[:s2_prime + 1])\n",
    "        return self.reward_s1[s1_prime], self.reward_s2[s2_prime]\n",
    "    \n",
    "    def transition_probabilty(self, s1, s2, action):\n",
    "        s1_prime = s1 - action\n",
    "        s2_prime = s2 + action\n",
    "        trans_mat1 = copy.deepcopy(self.transition_s1[:, :s1_prime + 1])\n",
    "        trans_mat2 = copy.deepcopy(self.transition_s2[:, :s2_prime + 1])\n",
    "        p1 = np.asarray([np.trace(trans_mat1, i) for i in range(-s1_prime, 21 - s1_prime)])\n",
    "        p2 = np.asarray([np.trace(trans_mat2, i) for i in range(-s2_prime, 21 - s2_prime)])\n",
    "        return np.outer(p1, p2)\n",
    "    \n",
    "    def policy_evaluation(self):\n",
    "        while True:\n",
    "            diff = 0.\n",
    "            it = np.nditer([self.policy], flags=['multi_index'])\n",
    "\n",
    "            while not it.finished:\n",
    "                action = it[0]\n",
    "                s1, s2 = it.multi_index\n",
    "\n",
    "                temp = self.value[s1, s2]\n",
    "\n",
    "                self.value[s1, s2] = self.bellman(action=action, s1=s1, s2=s2)\n",
    "\n",
    "                diff = max(diff, abs(self.value[s1, s2] - temp))\n",
    "\n",
    "                it.iternext()\n",
    "\n",
    "            if diff < self.epsilon:\n",
    "                break\n",
    "    \n",
    "    def policy_improvement(self):\n",
    "        better_policy = copy.deepcopy(self.policy)\n",
    "        it = np.nditer([self.policy], flags=['multi_index'])\n",
    "        while not it.finished:\n",
    "            s1, s2 = it.multi_index\n",
    "            best_val = 0\n",
    "            best_act = 0\n",
    "            for act in self.action_space:\n",
    "                if (s1 >= act) and (s2 >= -act) and (s1 <= 20 + act) and (s2 <= 20 - act):\n",
    "                    temp = self.bellman(act, s1, s2)\n",
    "                    if temp > best_val:\n",
    "                        best_val = temp\n",
    "                        best_act = act\n",
    "\n",
    "            better_policy[s1, s2] = best_act\n",
    "            it.iternext()\n",
    "            \n",
    "        return better_policy\n",
    "\n",
    "    def policy_iteration(self):\n",
    "        cnt = 0\n",
    "        while True:\n",
    "            print(cnt)\n",
    "            self.values = self.policy_evaluation()\n",
    "            better_policy = self.policy_improvement()\n",
    "            if np.array_equal(self.policy, better_policy):\n",
    "                break\n",
    "            self.policy = copy.deepcopy(better_policy)\n",
    "            cnt += 1"
   ]
  },
  {
   "cell_type": "code",
   "execution_count": 64,
   "metadata": {},
   "outputs": [
    {
     "name": "stdout",
     "output_type": "stream",
     "text": [
      "0\n",
      "1\n",
      "2\n",
      "3\n"
     ]
    }
   ],
   "source": [
    "game = mdp()    \n",
    "game.policy_iteration()"
   ]
  },
  {
   "cell_type": "code",
   "execution_count": 46,
   "metadata": {},
   "outputs": [
    {
     "data": {
      "text/plain": [
       "array([[ 0,  0,  0,  0,  0,  0, -2, -3, -4, -4, -5, -5, -5, -5, -5, -5,\n",
       "        -5, -5, -5, -5, -5],\n",
       "       [ 0,  1,  1,  1,  1, -1, -2, -3, -3, -4, -4, -4, -5, -5, -5, -5,\n",
       "        -5, -5, -5, -5, -5],\n",
       "       [ 0, -1,  2,  0,  0, -1, -2, -2, -3, -3, -3, -4, -4, -5, -5, -5,\n",
       "        -5, -5, -5, -5, -5],\n",
       "       [ 0, -1,  0,  0,  0, -1, -1, -2, -2, -2, -3, -3, -4, -4, -5, -5,\n",
       "        -5, -5, -5, -5, -5],\n",
       "       [ 0, -1,  1,  1,  0,  0, -1, -1, -1, -2, -2, -3, -3, -4, -4, -5,\n",
       "        -5, -5, -5, -5, -5],\n",
       "       [ 0,  2,  2,  1,  1,  0,  0,  0, -1, -1, -2, -2, -3, -3, -4, -4,\n",
       "        -5, -5, -5, -5, -5],\n",
       "       [ 3,  3,  2,  2,  1,  1,  0,  0,  0, -1, -1, -2, -2, -3, -3, -4,\n",
       "        -5, -5, -5, -5, -5],\n",
       "       [ 4,  3,  3,  2,  2,  1,  1,  0,  0,  0, -1, -1, -2, -2, -3, -4,\n",
       "        -4, -5, -5, -5, -5],\n",
       "       [ 4,  4,  3,  3,  2,  2,  1,  1,  0,  0,  0, -1, -1, -2, -3, -3,\n",
       "        -4, -5, -5, -5, -5],\n",
       "       [ 5,  4,  4,  3,  3,  2,  2,  1,  0,  0,  0,  0, -1, -2, -2, -3,\n",
       "        -4, -5, -5, -5, -5],\n",
       "       [ 5,  5,  4,  4,  3,  3,  2,  1,  1,  0,  0,  0, -1, -1, -2, -3,\n",
       "        -4, -4, -5, -5, -5],\n",
       "       [ 5,  5,  5,  4,  4,  3,  2,  2,  1,  0,  0,  0,  0, -1, -2, -3,\n",
       "        -3, -4, -4, -5, -5],\n",
       "       [ 5,  5,  5,  5,  4,  3,  3,  2,  1,  0,  0,  0,  0, -1, -2, -2,\n",
       "        -3, -3, -4, -4, -5],\n",
       "       [ 5,  5,  5,  5,  4,  4,  3,  2,  1,  0,  0,  0,  0, -1, -1, -2,\n",
       "        -2, -3, -3, -4, -4],\n",
       "       [ 5,  5,  5,  5,  5,  4,  3,  2,  1,  0,  0,  0,  0,  0, -1, -1,\n",
       "        -2, -2, -3, -3, -4],\n",
       "       [ 5,  5,  5,  5,  5,  4,  3,  2,  1,  1,  0,  0,  0,  0,  0, -1,\n",
       "        -1, -2, -2, -3, -3],\n",
       "       [ 5,  5,  5,  5,  5,  4,  3,  2,  2,  1,  1,  1,  0,  0,  0,  0,\n",
       "        -1, -1, -2, -2, -3],\n",
       "       [ 5,  5,  5,  5,  5,  4,  3,  3,  2,  2,  2,  1,  1,  0,  0,  0,\n",
       "         0, -1, -1, -2, -2],\n",
       "       [ 5,  5,  5,  5,  5,  4,  4,  3,  3,  3,  2,  2,  1,  1,  1,  0,\n",
       "         0,  0, -1, -1, -2],\n",
       "       [ 5,  5,  5,  5,  5,  5,  4,  4,  4,  3,  3,  2,  2,  2,  1,  1,\n",
       "         0,  0,  0, -1, -1],\n",
       "       [ 5,  5,  5,  5,  5,  5,  5,  5,  4,  4,  3,  3,  3,  2,  2,  1,\n",
       "         1,  0,  0,  0,  0]])"
      ]
     },
     "execution_count": 46,
     "metadata": {},
     "output_type": "execute_result"
    }
   ],
   "source": [
    "game.policy"
   ]
  },
  {
   "cell_type": "code",
   "execution_count": 47,
   "metadata": {},
   "outputs": [
    {
     "data": {
      "image/png": "[encoded data removed]",
      "text/plain": [
       "<Figure size 640x480 with 2 Axes>"
      ]
     },
     "metadata": {},
     "output_type": "display_data"
    }
   ],
   "source": [
    "import seaborn as sns\n",
    "ax = sns.heatmap(game.policy, linewidth=0.5)\n",
    "ax.invert_yaxis()"
   ]
  },
  {
   "cell_type": "code",
   "execution_count": 59,
   "metadata": {},
   "outputs": [],
   "source": [
    "class modified_mdp(mdp):\n",
    "    def __init__(self):\n",
    "        super().__init__()\n",
    "    \n",
    "    def gen_cost(self, action, s1, s2):\n",
    "        cost = 0\n",
    "        if action > 0:\n",
    "            cost = (action - 1) * 2\n",
    "        elif action < 0:\n",
    "            cost = abs(action) * 2\n",
    "        if (s1 - action) > 10:\n",
    "            cost += 10\n",
    "        if (s2 + action) > 10:\n",
    "            cost += 10\n",
    "        return cost\n",
    "    \n",
    "    def bellman(self, action, s1, s2):\n",
    "        cost = self.gen_cost(action, s1, s2)\n",
    "        transp = self.transition_probabilty(s1, s2, action)\n",
    "        reward_s1, reward_s2 = self.expected_reward(s1, s2, action)\n",
    "        return reward_s1 + reward_s2 - cost + self.gamma * sum((transp * self.value).flat)"
   ]
  },
  {
   "cell_type": "code",
   "execution_count": 60,
   "metadata": {},
   "outputs": [
    {
     "name": "stdout",
     "output_type": "stream",
     "text": [
      "0\n",
      "1\n",
      "2\n",
      "3\n"
     ]
    }
   ],
   "source": [
    "modified_game = modified_mdp()\n",
    "modified_game.policy_iteration()"
   ]
  },
  {
   "cell_type": "code",
   "execution_count": 62,
   "metadata": {},
   "outputs": [
    {
     "data": {
      "image/png": "[encoded data removed]",
      "text/plain": [
       "<Figure size 640x480 with 2 Axes>"
      ]
     },
     "metadata": {},
     "output_type": "display_data"
    }
   ],
   "source": [
    "ax = sns.heatmap(modified_game.policy, linewidth=0.5)\n",
    "ax.invert_yaxis()"
   ]
  }
 ],
 "metadata": {
  "kernelspec": {
   "display_name": "pytorch-gpu",
   "language": "python",
   "name": "python3"
  },
  "language_info": {
   "codemirror_mode": {
    "name": "ipython",
    "version": 3
   },
   "file_extension": ".py",
   "mimetype": "text/x-python",
   "name": "python",
   "nbconvert_exporter": "python",
   "pygments_lexer": "ipython3",
   "version": "3.10.10"
  },
  "orig_nbformat": 4
 },
 "nbformat": 4,
 "nbformat_minor": 2
}
